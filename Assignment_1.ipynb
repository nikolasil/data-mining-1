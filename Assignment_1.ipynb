{
  "cells": [
    {
      "cell_type": "markdown",
      "metadata": {
        "id": "tcJlH6AqsY_v"
      },
      "source": [
        "# Imports"
      ]
    },
    {
      "cell_type": "code",
      "execution_count": null,
      "metadata": {
        "colab": {
          "base_uri": "https://localhost:8080/"
        },
        "id": "sop37xjQm_eS",
        "outputId": "80d2c3a0-dc54-4f54-d21b-e72432c6a9b1"
      },
      "outputs": [
        {
          "name": "stdout",
          "output_type": "stream",
          "text": [
            "[nltk_data] Downloading package wordnet to /root/nltk_data...\n",
            "[nltk_data]   Package wordnet is already up-to-date!\n",
            "[nltk_data] Downloading package stopwords to /root/nltk_data...\n",
            "[nltk_data]   Package stopwords is already up-to-date!\n"
          ]
        }
      ],
      "source": [
        "#Μιχάλης Βολάκης 1115201800022\n",
        "#Νικόλας Ηλιόπουλος 1115201800332\n",
        "import pandas as pd\n",
        "import numpy as np\n",
        "\n",
        "from sklearn.feature_extraction.text import CountVectorizer\n",
        "from sklearn.feature_extraction.text import TfidfVectorizer\n",
        "from sklearn.model_selection import train_test_split\n",
        "import pickle\n",
        "from os.path import exists\n",
        "\n",
        "import gensim\n",
        "\n",
        "import string\n",
        "import re\n",
        "\n",
        "import nltk\n",
        "nltk.download('wordnet')\n",
        "from nltk.corpus import stopwords\n",
        "nltk.download('stopwords')\n",
        "stopwords_corpus = stopwords.words('english')\n",
        "from nltk.stem import WordNetLemmatizer\n",
        "\n",
        "from collections import defaultdict\n",
        "from operator import itemgetter\n",
        "\n",
        "import matplotlib.pyplot as plt\n",
        "\n",
        "import torch"
      ]
    },
    {
      "cell_type": "markdown",
      "metadata": {
        "id": "1g9mWQjbx_8E"
      },
      "source": [
        "# Reading & Splitting data"
      ]
    },
    {
      "cell_type": "code",
      "execution_count": null,
      "metadata": {
        "id": "LAPa-R98YIPv"
      },
      "outputs": [],
      "source": [
        "data = pd.read_pickle(\"/content/drive/MyDrive/Colab Notebooks/dataSets/eclass_all_with_sentiment_v2.pkl\")\n",
        "X_train, X_test, y_train, y_test = train_test_split(data.drop(\"sentiment\", axis=1), data[\"sentiment\"], test_size=0.2)"
      ]
    },
    {
      "cell_type": "markdown",
      "metadata": {
        "id": "H3ypr_ZoWUai"
      },
      "source": [
        "#Part 1"
      ]
    },
    {
      "cell_type": "markdown",
      "metadata": {
        "id": "Orzh9YY4bRgK"
      },
      "source": [
        "## Functions declaration"
      ]
    },
    {
      "cell_type": "code",
      "execution_count": null,
      "metadata": {
        "id": "zEHS5c-8WTcy"
      },
      "outputs": [],
      "source": [
        "def remove_punctuation(text):\n",
        "    return ''.join([i for i in text if i not in string.punctuation])\n",
        "\n",
        "def make_lowercase(text):\n",
        "    return text.lower()\n",
        "\n",
        "def remove_emojis(text):\n",
        "    emoji_pattern = re.compile(\"[\"\n",
        "        u\"\\U0001F600-\\U0001F64F\"  # emoticons\n",
        "        u\"\\U0001F300-\\U0001F5FF\"  # symbols & pictographs\n",
        "        u\"\\U0001F680-\\U0001F6FF\"  # transport & map symbols\n",
        "        u\"\\U0001F1E0-\\U0001F1FF\"  # flags (iOS)\n",
        "        u\"\\U00002500-\\U00002BEF\"  # chinese char\n",
        "        u\"\\U00002702-\\U000027B0\"\n",
        "        u\"\\U00002702-\\U000027B0\"\n",
        "        u\"\\U000024C2-\\U0001F251\"\n",
        "        u\"\\U0001f926-\\U0001f937\"\n",
        "        u\"\\U00010000-\\U0010ffff\"\n",
        "        u\"\\u2640-\\u2642\" \n",
        "        u\"\\u2600-\\u2B55\"\n",
        "        u\"\\u200d\"\n",
        "        u\"\\u23cf\"\n",
        "        u\"\\u23e9\"\n",
        "        u\"\\u231a\"\n",
        "        u\"\\ufe0f\"  # dingbats\n",
        "        u\"\\u3030\"\n",
        "                      \"]+\", re.UNICODE)\n",
        "    return emoji_pattern.sub(r'', text)\n",
        "\n",
        "def remove_hashtag(text):\n",
        "    return re.sub('#[A-Za-z0-9_]+', '', text)\n",
        "\n",
        "def remove_url(text):\n",
        "    return re.sub('http[s]?://\\S+', '', text)\n",
        "\n",
        "def remove_extra_spaces(text):\n",
        "    return ' '.join(text.split())\n",
        "\n",
        "def tokenization(text):\n",
        "    return re.split(' ',text)\n",
        "\n",
        "def remove_stopwords(text):\n",
        "    return [i for i in text if i not in stopwords_corpus]\n",
        "\n",
        "def merge_text(text):\n",
        "    return ' '.join(text)\n",
        "\n",
        "def pre_process(dataset):\n",
        "    dataset['proc_tweet'] = dataset['text']\n",
        "    dataset['proc_tweet'] = dataset['proc_tweet'].apply(lambda x: remove_punctuation(x))\n",
        "    dataset['proc_tweet'] = dataset['proc_tweet'].apply(lambda x: make_lowercase(x))\n",
        "    dataset['proc_tweet'] = dataset['proc_tweet'].apply(lambda x: remove_emojis(x))\n",
        "    dataset['proc_tweet'] = dataset['proc_tweet'].apply(lambda x: remove_hashtag(x))\n",
        "    dataset['proc_tweet'] = dataset['proc_tweet'].apply(lambda x: remove_url(x))\n",
        "    dataset['proc_tweet'] = dataset['proc_tweet'].apply(lambda x: remove_extra_spaces(x))\n",
        "    dataset['proc_tweet'] = dataset['proc_tweet'].apply(lambda x: tokenization(x))\n",
        "    dataset['proc_tweet'] = dataset['proc_tweet'].apply(lambda x: remove_stopwords(x))\n",
        "    dataset['proc_tweet'] = dataset['proc_tweet'].apply(lambda x: merge_text(x))\n",
        "    dataset['text'] = dataset['proc_tweet']"
      ]
    },
    {
      "cell_type": "markdown",
      "metadata": {
        "id": "p1d1mveDbVwd"
      },
      "source": [
        "## Pre-Processing"
      ]
    },
    {
      "cell_type": "code",
      "execution_count": null,
      "metadata": {
        "id": "ldEVSSB4Zeta"
      },
      "outputs": [],
      "source": [
        "## Preprocess train and test datasets\n",
        "\n",
        "pre_process(data)\n",
        "pre_process(X_train)\n",
        "pre_process(X_test)"
      ]
    },
    {
      "cell_type": "markdown",
      "metadata": {
        "id": "jENzErVCWWML"
      },
      "source": [
        "# Part 2"
      ]
    },
    {
      "cell_type": "markdown",
      "metadata": {
        "id": "6uoFYcabmPwr"
      },
      "source": [
        "## Functions declaration"
      ]
    },
    {
      "cell_type": "code",
      "execution_count": null,
      "metadata": {
        "id": "J5pp3BBNWXR6"
      },
      "outputs": [],
      "source": [
        "def distribution_of_emotions(data):\n",
        "  return {\n",
        "      \"positive\": len(data.loc[data == \"POS\"]) / len(data) * 100,\n",
        "      \"negative\": len(data.loc[data == \"NEG\"]) / len(data) * 100,\n",
        "      \"neutral\" : len(data.loc[data == \"NEU\"]) / len(data) * 100\n",
        "      }\n",
        "\n",
        "def most_used_words(data, N):\n",
        "  most_used_words = defaultdict(int)\n",
        "  for sub in data['text'].tolist():\n",
        "      for wrd in sub.split():\n",
        "          most_used_words[wrd] += 1\n",
        "  res = dict(sorted(most_used_words.items(), key = itemgetter(1), reverse = True)[:N])\n",
        "  return res"
      ]
    },
    {
      "cell_type": "markdown",
      "metadata": {
        "id": "9v7a47iEmQwL"
      },
      "source": [
        "## Question i"
      ]
    },
    {
      "cell_type": "code",
      "execution_count": null,
      "metadata": {
        "colab": {
          "base_uri": "https://localhost:8080/"
        },
        "id": "tjPV4vQ3c09O",
        "outputId": "4fe8fe37-caee-498f-c0c2-1fef149f912f"
      },
      "outputs": [
        {
          "name": "stdout",
          "output_type": "stream",
          "text": [
            "Whole Distribution:  {'positive': 11.487377687800988, 'negative': 13.477237770971092, 'neutral': 75.03538454122793}\n",
            "Train Distribution:  {'positive': 11.513707446662833, 'negative': 13.396324596718978, 'neutral': 75.08996795661818}\n",
            "Test Distribution:   {'positive': 11.382060382980589, 'negative': 13.800885149642871, 'neutral': 74.81705446737654}\n"
          ]
        }
      ],
      "source": [
        "whole_distribution = distribution_of_emotions(data['sentiment'])\n",
        "print(\"Whole Distribution: \",whole_distribution)\n",
        "\n",
        "train_distribution = distribution_of_emotions(y_train)\n",
        "print(\"Train Distribution: \",train_distribution)\n",
        "\n",
        "test_distribution = distribution_of_emotions(y_test)\n",
        "print(\"Test Distribution:  \",test_distribution)"
      ]
    },
    {
      "cell_type": "markdown",
      "metadata": {
        "id": "tekxkGunmTtj"
      },
      "source": [
        "## Question ii"
      ]
    },
    {
      "cell_type": "code",
      "execution_count": null,
      "metadata": {
        "colab": {
          "base_uri": "https://localhost:8080/"
        },
        "id": "UDI2N3CsgS87",
        "outputId": "fe544b69-08f4-4d2f-ac20-c601d92abbd9"
      },
      "outputs": [
        {
          "name": "stdout",
          "output_type": "stream",
          "text": [
            "Whole Dataset most used words:  {'covaxin': 74222, 'vaccine': 53548, 'moderna': 47811, 'slots': 35480, 'dose': 31734, 'covid19': 30428, 'age': 25406, '18': 21785, 'pfizer': 14553, 'vaccines': 14211}\n",
            "Train most used words:  {'covaxin': 59377, 'vaccine': 43011, 'moderna': 38317, 'slots': 28353, 'dose': 25434, 'covid19': 24328, 'age': 20274, '18': 17375, 'pfizer': 11679, 'vaccines': 11430}\n",
            "Test most used words:  {'covaxin': 14845, 'vaccine': 10537, 'moderna': 9494, 'slots': 7127, 'dose': 6300, 'covid19': 6100, 'age': 5132, '18': 4410, 'bbmp': 2917, 'pfizer': 2874}\n"
          ]
        }
      ],
      "source": [
        "whole_most_used_words = most_used_words(data, 10)\n",
        "print(\"Whole Dataset most used words: \",whole_most_used_words)\n",
        "\n",
        "train_most_used_words = most_used_words(X_train, 10)\n",
        "print(\"Train most used words: \",train_most_used_words)\n",
        "\n",
        "test_most_used_words = most_used_words(X_test, 10)\n",
        "print(\"Test most used words: \",test_most_used_words)"
      ]
    },
    {
      "cell_type": "markdown",
      "metadata": {
        "id": "w8yfiXBonVB0"
      },
      "source": [
        "## Question iii"
      ]
    },
    {
      "cell_type": "code",
      "execution_count": null,
      "metadata": {
        "colab": {
          "base_uri": "https://localhost:8080/"
        },
        "id": "2uwXIAt8nWw9",
        "outputId": "35c38ecb-ec57-49d8-8458-30ee313f51be"
      },
      "outputs": [
        {
          "name": "stdout",
          "output_type": "stream",
          "text": [
            "Whole Dataset: Positive most used words:  {'vaccine': 7318, 'covaxin': 7004, 'moderna': 6900, 'covid19': 3987, 'vaccinated': 2889, 'dose': 2827, 'got': 2825, 'today': 2311, 'first': 2306, 'good': 2210}\n",
            "Whole Dataset: Negative most used words:  {'moderna': 9226, 'vaccine': 7470, 'covaxin': 3959, 'covid19': 3491, 'pfizer': 2772, 'got': 2304, 'shot': 2294, 'vaccines': 2257, 'people': 2235, 'get': 1860}\n",
            "Whole Dataset: Neutral most used words:  {'covaxin': 63259, 'vaccine': 38760, 'slots': 35436, 'moderna': 31685, 'dose': 27069, 'age': 25139, 'covid19': 22950, '18': 21545, 'bbmp': 14204, '2021': 13235}\n"
          ]
        }
      ],
      "source": [
        "positive_most_used_words = most_used_words(data.loc[data['sentiment'] == \"POS\"], 10)\n",
        "print(\"Whole Dataset: Positive most used words: \",positive_most_used_words)\n",
        "\n",
        "negative_most_used_words = most_used_words(data.loc[data['sentiment'] == \"NEG\"], 10)\n",
        "print(\"Whole Dataset: Negative most used words: \",negative_most_used_words)\n",
        "\n",
        "neutral_most_used_words = most_used_words(data.loc[data['sentiment'] == \"NEU\"], 10)\n",
        "print(\"Whole Dataset: Neutral most used words: \",neutral_most_used_words)"
      ]
    },
    {
      "cell_type": "markdown",
      "metadata": {
        "id": "IOrijXz_tTJu"
      },
      "source": [
        "## Question iv"
      ]
    },
    {
      "cell_type": "code",
      "execution_count": null,
      "metadata": {
        "colab": {
          "base_uri": "https://localhost:8080/"
        },
        "id": "dJbmEafYtU3R",
        "outputId": "54e588c3-6660-4dfa-8a3e-0e8836562be2"
      },
      "outputs": [
        {
          "name": "stdout",
          "output_type": "stream",
          "text": [
            "Astrazeneca Distribution:  {'positive': 12.818800907998398, 'negative': 20.0026705835225, 'neutral': 67.1785285084791}\n",
            "Moderna Pfizer Biontech Distribution:  {'positive': 15.374920176116694, 'negative': 18.319161092999025, 'neutral': 66.30591873088429}\n"
          ]
        }
      ],
      "source": [
        "astrazeneca_tweets = data[data['text'].str.contains(\"astrazeneca\", na=False)]          \n",
        "moderna_pfizer_biontech_tweets = data[data['text'].str.contains(\"moderna|pfizer|biontech\", na=False)]\n",
        "\n",
        "astrazeneca_distribution = distribution_of_emotions(astrazeneca_tweets['sentiment'])\n",
        "print(\"Astrazeneca Distribution: \",astrazeneca_distribution)\n",
        "\n",
        "moderna_pfizer_biontech_distribution = distribution_of_emotions(moderna_pfizer_biontech_tweets['sentiment'])\n",
        "print(\"Moderna Pfizer Biontech Distribution: \",moderna_pfizer_biontech_distribution)"
      ]
    },
    {
      "cell_type": "markdown",
      "metadata": {
        "id": "9XQmNpGluypn"
      },
      "source": [
        "## Question v"
      ]
    },
    {
      "cell_type": "code",
      "execution_count": null,
      "metadata": {
        "colab": {
          "base_uri": "https://localhost:8080/",
          "height": 295
        },
        "id": "bR0u9AUhuyao",
        "outputId": "004e5416-9f98-49fe-989b-8eec6ed51d31"
      },
      "outputs": [
        {
          "data": {
            "image/png": "[encoded data removed]",
            "text/plain": [
              "<Figure size 432x288 with 1 Axes>"
            ]
          },
          "metadata": {
            "needs_background": "light"
          },
          "output_type": "display_data"
        }
      ],
      "source": [
        "# Από το trends.google.com χρησιμοποιώντας το keyword covid-19 παρατηρήσαμε αύξηση των αναζητήσεων τον Μάρτιο 2020 και αντίστοιχα μία επόμενη αύξησητον Ιούνιο,\n",
        "# όπως ακριβώς φαίνεται και στο διάγραμμα από την κατανομή των μηνών.\n",
        "\n",
        "\n",
        "dates = pd.to_datetime(data['date'], errors='coerce')\n",
        "\n",
        "dates_count = dates.groupby(dates.dt.month.rename('month')).agg('count')\n",
        "months = ['Jan', 'Feb', 'Mar', 'April', 'May', 'June', 'July', 'Aug', 'Sept', 'Oct', 'Nov', 'Dec']\n",
        "\n",
        "plt.title(\"Matplotlib\")\n",
        "plt.plot(months, dates_count.values.tolist(), label=\"# of tweets / month\")\n",
        "plt.xlabel(\"Months\")\n",
        "plt.ylabel(\"Number of tweets\")\n",
        "plt.legend(loc='best')\n",
        "plt.show()"
      ]
    },
    {
      "cell_type": "markdown",
      "metadata": {
        "id": "QMDnicCwzy4B"
      },
      "source": [
        "# Part 3\n"
      ]
    },
    {
      "cell_type": "markdown",
      "metadata": {
        "id": "Xswg82pebZMq"
      },
      "source": [
        "Σε καθέναν από τους 3 vectorizers ελέγχουμε πρώτα αν έχουμε ήδη αποθηκεύσει το pickle αρχείο με τα vectors ώστε να μην χρειαστεί να ξανακάνουμε fit εφόσον υπάρχουν ήδη."
      ]
    },
    {
      "cell_type": "code",
      "execution_count": null,
      "metadata": {
        "id": "u_VIAHCQsi-b"
      },
      "outputs": [],
      "source": [
        "if not exists(\"bag_of_words.pkl\"):\n",
        "  vectorizer = CountVectorizer()\n",
        "  bag_of_words = vectorizer.fit_transform(data.text)\n",
        "\n",
        "  file = open('bag_of_words.pkl', 'wb')\n",
        "  pickle.dump(bag_of_words, file)\n",
        "else:\n",
        "  file = open(\"bag_of_words.pkl\", \"rb\")\n",
        "  bag_of_words = pickle.load(file)"
      ]
    },
    {
      "cell_type": "code",
      "execution_count": null,
      "metadata": {
        "id": "IqEECBKltqhi"
      },
      "outputs": [],
      "source": [
        "if not exists(\"Tfidf.pkl\"):\n",
        "  vectorizer = TfidfVectorizer(max_df=1.0, min_df=1, max_features=1000, stop_words='english')\n",
        "  Tfidf = vectorizer.fit_transform(data.text)\n",
        "  file = open('Tfidf.pkl', 'wb')\n",
        "  pickle.dump(Tfidf, file)\n",
        "else:\n",
        "  file = open(\"Tfidf.pkl\", \"rb\")\n",
        "  Tfidf = pickle.load(file)"
      ]
    },
    {
      "cell_type": "code",
      "execution_count": null,
      "metadata": {
        "id": "8UpDXn-7s-co"
      },
      "outputs": [],
      "source": [
        "if not exists(\"Word2Vec.pkl\"):\n",
        "  tokenized_tweet = data.text.apply(lambda x: tokenization(x)) # tokenizing\n",
        "  word_2_vec = gensim.models.Word2Vec(\n",
        "  tokenized_tweet,\n",
        "  size=200, # desired no. of features/independent variables\n",
        "  window=5, # context window size\n",
        "  min_count=2,\n",
        "  sg = 1, # 1 for skip-gram model\n",
        "  hs = 0,\n",
        "  negative = 10, # for negative sampling\n",
        "  workers= 2, # no.of cores\n",
        "  seed = 34)\n",
        "  file = open('Word2Vec.pkl', 'wb')\n",
        "  pickle.dump(word_2_vec, file)\n",
        "else:\n",
        "  file = open(\"Word2Vec.pkl\", \"rb\")\n",
        "  word_2_vec = pickle.load(file)"
      ]
    },
    {
      "cell_type": "markdown",
      "metadata": {
        "id": "KIP9Fal-yQMy"
      },
      "source": [
        "# Part 4"
      ]
    },
    {
      "cell_type": "markdown",
      "metadata": {
        "id": "k_ev61s8b7wA"
      },
      "source": [
        "Ορίσαμε μία συνάρτηση classify που δέχεται στα args της τον εκάστοτε vectorizer και σε κάθε κλήση της κάνουμε fit και predict με τους 3 classifiers (KNN,SVM, RFC).Χρησιμοποιήσαμε επίσης την classification_report για να υπολογίσουμε τα metrics (accuracy,precision,f1 score,recall)."
      ]
    },
    {
      "cell_type": "code",
      "execution_count": null,
      "metadata": {
        "colab": {
          "base_uri": "https://localhost:8080/"
        },
        "id": "FehRmzWLQR8l",
        "outputId": "4318412c-edc5-49fa-9346-085d455ae25d"
      },
      "outputs": [
        {
          "name": "stdout",
          "output_type": "stream",
          "text": [
            "---------- Bag Of Words Vectorizer ---------\n",
            "SVM REPORT\n",
            "              precision    recall  f1-score   support\n",
            "\n",
            "         NEG       0.63      0.49      0.55       999\n",
            "         NEU       0.80      0.88      0.84      3786\n",
            "         POS       0.77      0.67      0.72      1215\n",
            "\n",
            "    accuracy                           0.77      6000\n",
            "   macro avg       0.74      0.68      0.70      6000\n",
            "weighted avg       0.77      0.77      0.77      6000\n",
            "\n",
            "KNN REPORT\n",
            "              precision    recall  f1-score   support\n",
            "\n",
            "         NEG       0.81      0.09      0.17       999\n",
            "         NEU       0.65      0.99      0.79      3786\n",
            "         POS       0.77      0.09      0.17      1215\n",
            "\n",
            "    accuracy                           0.66      6000\n",
            "   macro avg       0.74      0.39      0.37      6000\n",
            "weighted avg       0.70      0.66      0.56      6000\n",
            "\n",
            "RFC REPORT\n",
            "              precision    recall  f1-score   support\n",
            "\n",
            "         NEG       0.94      0.22      0.36       999\n",
            "         NEU       0.72      0.98      0.83      3786\n",
            "         POS       0.84      0.43      0.57      1215\n",
            "\n",
            "    accuracy                           0.74      6000\n",
            "   macro avg       0.84      0.54      0.59      6000\n",
            "weighted avg       0.78      0.74      0.70      6000\n",
            "\n",
            "---------- TFIDF Vectorizer ---------\n",
            "SVM REPORT\n",
            "              precision    recall  f1-score   support\n",
            "\n",
            "         NEG       0.72      0.27      0.39       999\n",
            "         NEU       0.74      0.94      0.83      3786\n",
            "         POS       0.81      0.55      0.65      1215\n",
            "\n",
            "    accuracy                           0.75      6000\n",
            "   macro avg       0.76      0.59      0.62      6000\n",
            "weighted avg       0.75      0.75      0.72      6000\n",
            "\n",
            "KNN REPORT\n",
            "              precision    recall  f1-score   support\n",
            "\n",
            "         NEG       0.26      0.63      0.37       999\n",
            "         NEU       0.75      0.60      0.66      3786\n",
            "         POS       0.67      0.32      0.44      1215\n",
            "\n",
            "    accuracy                           0.55      6000\n",
            "   macro avg       0.56      0.52      0.49      6000\n",
            "weighted avg       0.65      0.55      0.57      6000\n",
            "\n",
            "RFC REPORT\n",
            "              precision    recall  f1-score   support\n",
            "\n",
            "         NEG       0.69      0.31      0.42       999\n",
            "         NEU       0.75      0.91      0.83      3786\n",
            "         POS       0.74      0.59      0.66      1215\n",
            "\n",
            "    accuracy                           0.75      6000\n",
            "   macro avg       0.73      0.60      0.64      6000\n",
            "weighted avg       0.74      0.75      0.73      6000\n",
            "\n",
            "---------- WORD2VEC Vectorizer ---------\n",
            "SVM REPORT\n",
            "              precision    recall  f1-score   support\n",
            "\n",
            "         NEG       0.00      0.00      0.00       999\n",
            "         NEU       0.63      1.00      0.77      3786\n",
            "         POS       0.00      0.00      0.00      1215\n",
            "\n",
            "    accuracy                           0.63      6000\n",
            "   macro avg       0.21      0.33      0.26      6000\n",
            "weighted avg       0.40      0.63      0.49      6000\n",
            "\n",
            "KNN REPORT\n",
            "              precision    recall  f1-score   support\n",
            "\n",
            "         NEG       0.15      0.19      0.17       999\n",
            "         NEU       0.63      0.70      0.66      3786\n",
            "         POS       0.19      0.09      0.12      1215\n",
            "\n",
            "    accuracy                           0.49      6000\n",
            "   macro avg       0.32      0.33      0.32      6000\n",
            "weighted avg       0.46      0.49      0.47      6000\n",
            "\n",
            "RFC REPORT\n",
            "              precision    recall  f1-score   support\n",
            "\n",
            "         NEG       0.15      0.01      0.01       999\n",
            "         NEU       0.63      0.98      0.77      3786\n",
            "         POS       0.16      0.01      0.02      1215\n",
            "\n",
            "    accuracy                           0.62      6000\n",
            "   macro avg       0.31      0.33      0.27      6000\n",
            "weighted avg       0.45      0.62      0.49      6000\n",
            "\n"
          ]
        }
      ],
      "source": [
        "from gensim.models.word2vec import Word2Vec\n",
        "from sklearn.model_selection import KFold\n",
        "\n",
        "from sklearn.svm import SVC\n",
        "from sklearn.neighbors import KNeighborsClassifier\n",
        "from sklearn.ensemble import RandomForestClassifier\n",
        "\n",
        "from sklearn.metrics import accuracy_score, precision_score, recall_score, f1_score, classification_report\n",
        "\n",
        "from sklearn.model_selection import GridSearchCV\n",
        "\n",
        "\n",
        "\n",
        "def classify(vectorizer):\n",
        "  SVM = SVC(kernel = 'linear', random_state = 0)\n",
        "  KNN = KNeighborsClassifier(n_neighbors=3)\n",
        "  RFC = RandomForestClassifier(n_estimators=50,random_state=1)\n",
        "\n",
        "  cross_validation = KFold(n_splits=10, random_state=None, shuffle=True)\n",
        "  LIMIT_DATA = 6000\n",
        "\n",
        "  if(isinstance(vectorizer,Word2Vec)):\n",
        "    X = vectorizer.wv.vectors[:LIMIT_DATA]\n",
        "  else:\n",
        "    X = vectorizer[:LIMIT_DATA]\n",
        "\n",
        "  y = data['sentiment'][:LIMIT_DATA]\n",
        "  SVM_ACC, KNN_ACC, RFC_ACC = [], [], []\n",
        "  SVM_PREC, KNN_PREC,  RFC_PREC = [], [], []\n",
        "  SVM_F1, KNN_F1, RFC_F1 = [], [], []\n",
        "  SVM_PRED,KNN_PRED,RFC_PRED = [],[],[]\n",
        "  Y_TRUE = []\n",
        "\n",
        "  for train_index, test_index in cross_validation.split(X):\n",
        "    x_train, y_train = X[train_index], y[train_index]\n",
        "    x_test, y_test = X[test_index], y[test_index]\n",
        "\n",
        "    SVM.fit(x_train,y_train)\n",
        "    KNN.fit(x_train,y_train)\n",
        "    RFC.fit(x_train,y_train)\n",
        "\n",
        "    PRED_SVM = SVM.predict(x_test)\n",
        "    PRED_KNN = KNN.predict(x_test)\n",
        "    PRED_RFC = RFC.predict(x_test)\n",
        "\n",
        "    SVM_PRED.extend(PRED_SVM)\n",
        "    KNN_PRED.extend(PRED_KNN)\n",
        "    RFC_PRED.extend(PRED_RFC)\n",
        "\n",
        "    Y_TRUE.extend(y_test)\n",
        "\n",
        "  target_names=['NEG','NEU','POS']\n",
        "  print(\"SVM REPORT\")\n",
        "  print(classification_report(Y_TRUE,SVM_PRED,target_names=target_names,zero_division=0))\n",
        "  print(\"KNN REPORT\")\n",
        "  print(classification_report(Y_TRUE,KNN_PRED,target_names=target_names,zero_division=0))\n",
        "  print(\"RFC REPORT\")\n",
        "  print(classification_report(Y_TRUE,RFC_PRED,target_names=target_names,zero_division=0))\n",
        "  \n",
        "#call classify function for each of the 3 vectorizers\n",
        "print(\"---------- Bag Of Words Vectorizer ---------\")\n",
        "classify(bag_of_words)\n",
        "print(\"---------- TFIDF Vectorizer ---------\")\n",
        "classify(Tfidf)\n",
        "print(\"---------- WORD2VEC Vectorizer ---------\")\n",
        "classify(word_2_vec)"
      ]
    },
    {
      "cell_type": "markdown",
      "metadata": {
        "id": "AinJw83Rz0o3"
      },
      "source": [
        "# Part 5"
      ]
    },
    {
      "cell_type": "markdown",
      "metadata": {
        "id": "webS7jyZc0AI"
      },
      "source": [
        "Μετά το preprocessing χρησιμοποιήσαμε τον αλγόριθμο LDA απο τα gensim models για να εντοπίσουμε τα topics των κειμένων και το coherence model του ίδιου library για να υποολογίσουμε την συνεκτικότητα."
      ]
    },
    {
      "cell_type": "code",
      "execution_count": null,
      "metadata": {
        "colab": {
          "base_uri": "https://localhost:8080/"
        },
        "id": "yBeq57e35d2d",
        "outputId": "c6cd8dfe-a4e0-4ca1-c56e-322f35cefb95"
      },
      "outputs": [
        {
          "name": "stdout",
          "output_type": "stream",
          "text": [
            "Coherence Score:  0.37613847690873636\n"
          ]
        }
      ],
      "source": [
        "lemma = WordNetLemmatizer()\n",
        "stop = set(stopwords.words('english'))\n",
        "def clean(doc):\n",
        "  stop_free = \" \".join([i for i in doc.lower().split() if i not in stop])\n",
        "  normalized = \" \".join(lemma.lemmatize(word) for word in stop_free.split())\n",
        "  return normalized\n",
        "\n",
        "clean_corpus = [clean(doc).split() for doc in data.text]\n",
        "dict_ = gensim.corpora.Dictionary(clean_corpus)\n",
        "doc_term_matrix = [dict_.doc2bow(i) for i in clean_corpus]\n",
        "\n",
        "lda = gensim.models.LdaModel(doc_term_matrix, num_topics=6,id2word=dict_,passes=1,random_state=0,eval_every=None)\n",
        "# lda.print_topics()\n",
        "\n",
        "coherence = gensim.models.coherencemodel.CoherenceModel(model=lda, texts=clean_corpus,dictionary=dict_, coherence='c_v').get_coherence()\n",
        "print('Coherence Score: ',coherence)"
      ]
    }
  ],
  "metadata": {
    "accelerator": "GPU",
    "colab": {
      "collapsed_sections": [],
      "name": "Copy of Assignment 1.ipynb",
      "provenance": [],
      "toc_visible": true
    },
    "kernelspec": {
      "display_name": "Python 3",
      "name": "python3"
    },
    "language_info": {
      "name": "python"
    }
  },
  "nbformat": 4,
  "nbformat_minor": 0
}
